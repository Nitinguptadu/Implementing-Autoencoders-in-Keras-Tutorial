{
 "cells": [
  {
   "cell_type": "markdown",
   "metadata": {},
   "source": [
    "# Implementing Autoencoders in Keras: Tutorial"
   ]
  },
  {
   "cell_type": "code",
   "execution_count": 1,
   "metadata": {},
   "outputs": [],
   "source": [
    "import os\n",
    "os.environ[\"CUDA_DEVICE_ORDER\"]=\"PCI_BUS_ID\"\n",
    "os.environ[\"CUDA_VISIBLE_DEVICES\"]=\"1\" #model will be trained on GPU 1"
   ]
  },
  {
   "cell_type": "markdown",
   "metadata": {},
   "source": [
    "# An autoencoder is an unsupervised machine learning algorithm that takes an image as input and tries to reconstruct it using fewer number of bits from the bottleneck also known as latent space"
   ]
  },
  {
   "cell_type": "code",
   "execution_count": 2,
   "metadata": {},
   "outputs": [
    {
     "name": "stderr",
     "output_type": "stream",
     "text": [
      "Using TensorFlow backend.\n"
     ]
    }
   ],
   "source": [
    "import keras\n",
    "from matplotlib import pyplot as plt\n",
    "import numpy as np\n",
    "import gzip\n",
    "%matplotlib inline\n",
    "from keras.layers import Input,Conv2D,MaxPooling2D,UpSampling2D\n",
    "from keras.models import Model\n",
    "from keras.optimizers import RMSprop"
   ]
  },
  {
   "cell_type": "markdown",
   "metadata": {},
   "source": [
    "# In this tutorial, you’ll learn about autoencoders in deep learning and you will implement a convolutional and denoising autoencoder in Python with Keras. You will work with the NotMNIST alphabet dataset as an example.\n",
    "\n"
   ]
  },
  {
   "cell_type": "code",
   "execution_count": 3,
   "metadata": {},
   "outputs": [],
   "source": [
    "def extract_data(filename, num_images):\n",
    "    with gzip.open(filename) as bytestream:\n",
    "        bytestream.read(16)\n",
    "        buf = bytestream.read(28 * 28 * num_images)\n",
    "        data = np.frombuffer(buf, dtype=np.uint8).astype(np.float32)\n",
    "        data = data.reshape(num_images, 28,28)\n",
    "        return data"
   ]
  },
  {
   "cell_type": "markdown",
   "metadata": {},
   "source": [
    "The notMNIST dataset is an image recognition dataset of font glypyhs for the letters A through J."
   ]
  },
  {
   "cell_type": "code",
   "execution_count": 4,
   "metadata": {},
   "outputs": [],
   "source": [
    "train_data = extract_data('train-images-idx3-ubyte.gz', 60000)\n",
    "test_data = extract_data('t10k-images-idx3-ubyte.gz', 10000)"
   ]
  },
  {
   "cell_type": "markdown",
   "metadata": {},
   "source": [
    "\n",
    "# SOURCE ---- https://github.com/davidflanagan/notMNIST-to-MNIST"
   ]
  },
  {
   "cell_type": "code",
   "execution_count": 5,
   "metadata": {},
   "outputs": [],
   "source": [
    "def extract_labels(filename, num_images):\n",
    "    with gzip.open(filename) as bytestream:\n",
    "        bytestream.read(8)\n",
    "        buf = bytestream.read(1 * num_images)\n",
    "        labels = np.frombuffer(buf, dtype=np.uint8).astype(np.int64)\n",
    "        return labels"
   ]
  },
  {
   "cell_type": "code",
   "execution_count": 6,
   "metadata": {},
   "outputs": [],
   "source": [
    "train_labels = extract_labels('train-labels-idx1-ubyte.gz',60000)\n",
    "test_labels = extract_labels('t10k-labels-idx1-ubyte.gz',10000)\n"
   ]
  },
  {
   "cell_type": "code",
   "execution_count": 7,
   "metadata": {},
   "outputs": [
    {
     "name": "stdout",
     "output_type": "stream",
     "text": [
      "Training set (images) shape: (60000, 28, 28)\n",
      "Test set (images) shape: (10000, 28, 28)\n"
     ]
    }
   ],
   "source": [
    "# Shapes of training set\n",
    "print(\"Training set (images) shape: {shape}\".format(shape=train_data.shape))\n",
    "\n",
    "# Shapes of test set\n",
    "print(\"Test set (images) shape: {shape}\".format(shape=test_data.shape))\n"
   ]
  },
  {
   "cell_type": "code",
   "execution_count": 8,
   "metadata": {},
   "outputs": [],
   "source": [
    "# Create dictionary of target classes\n",
    "label_dict = {\n",
    " 0: 'A',\n",
    " 1: 'B',\n",
    " 2: 'C',\n",
    " 3: 'D',\n",
    " 4: 'E',\n",
    " 5: 'F',\n",
    " 6: 'G',\n",
    " 7: 'H',\n",
    " 8: 'I',\n",
    " 9: 'J',\n",
    "}"
   ]
  },
  {
   "cell_type": "code",
   "execution_count": 9,
   "metadata": {},
   "outputs": [
    {
     "data": {
      "text/plain": [
       "Text(0.5, 1.0, '(Label: D)')"
      ]
     },
     "execution_count": 9,
     "metadata": {},
     "output_type": "execute_result"
    },
    {
     "data": {
      "image/png": "[encoded data removed]",
      "text/plain": [
       "<Figure size 432x288 with 2 Axes>"
      ]
     },
     "metadata": {
      "needs_background": "light"
     },
     "output_type": "display_data"
    }
   ],
   "source": [
    "plt.subplot(121)\n",
    "curr_img = np.reshape(train_data[0], (28,28))\n",
    "curr_lbl = train_labels[0]\n",
    "plt.imshow(curr_img, cmap='gray')\n",
    "plt.title(\"(Label: \" + str(label_dict[curr_lbl]) + \")\")\n",
    "\n",
    "# Display the first image in testing data\n",
    "plt.subplot(122)\n",
    "curr_img = np.reshape(test_data[0], (28,28))\n",
    "curr_lbl = test_labels[0]\n",
    "plt.imshow(curr_img, cmap='gray')\n",
    "plt.title(\"(Label: \" + str(label_dict[curr_lbl]) + \")\")"
   ]
  },
  {
   "cell_type": "code",
   "execution_count": 10,
   "metadata": {},
   "outputs": [
    {
     "data": {
      "text/plain": [
       "((60000, 28, 28, 1), (10000, 28, 28, 1))"
      ]
     },
     "execution_count": 10,
     "metadata": {},
     "output_type": "execute_result"
    }
   ],
   "source": [
    "train_data = train_data.reshape(-1, 28,28, 1)\n",
    "test_data = test_data.reshape(-1, 28,28, 1)\n",
    "train_data.shape, test_data.shape"
   ]
  },
  {
   "cell_type": "code",
   "execution_count": 11,
   "metadata": {},
   "outputs": [
    {
     "data": {
      "text/plain": [
       "(dtype('float32'), dtype('float32'))"
      ]
     },
     "execution_count": 11,
     "metadata": {},
     "output_type": "execute_result"
    }
   ],
   "source": [
    "train_data.dtype, test_data.dtype"
   ]
  },
  {
   "cell_type": "code",
   "execution_count": 12,
   "metadata": {},
   "outputs": [
    {
     "data": {
      "text/plain": [
       "(255.0, 255.0)"
      ]
     },
     "execution_count": 12,
     "metadata": {},
     "output_type": "execute_result"
    }
   ],
   "source": [
    "np.max(train_data), np.max(test_data)"
   ]
  },
  {
   "cell_type": "code",
   "execution_count": 13,
   "metadata": {},
   "outputs": [],
   "source": [
    "train_data = train_data / np.max(train_data)\n",
    "test_data = test_data / np.max(test_data)"
   ]
  },
  {
   "cell_type": "code",
   "execution_count": 14,
   "metadata": {},
   "outputs": [
    {
     "data": {
      "text/plain": [
       "(1.0, 1.0)"
      ]
     },
     "execution_count": 14,
     "metadata": {},
     "output_type": "execute_result"
    }
   ],
   "source": [
    "np.max(train_data), np.max(test_data)"
   ]
  },
  {
   "cell_type": "code",
   "execution_count": 15,
   "metadata": {},
   "outputs": [],
   "source": [
    "from sklearn.model_selection import train_test_split\n",
    "train_X,valid_X,train_ground,valid_ground = train_test_split(train_data,\n",
    "                                                             train_data, \n",
    "                                                             test_size=0.2, \n",
    "                                                             random_state=13)\n"
   ]
  },
  {
   "cell_type": "code",
   "execution_count": 16,
   "metadata": {},
   "outputs": [],
   "source": [
    "batch_size = 128\n",
    "epochs = 50\n",
    "inChannel = 1\n",
    "x, y = 28, 28\n",
    "input_img = Input(shape = (x, y, inChannel))"
   ]
  },
  {
   "cell_type": "code",
   "execution_count": 17,
   "metadata": {},
   "outputs": [],
   "source": [
    "def autoencoder(input_img):\n",
    "    #encoder\n",
    "    #input = 28 x 28 x 1 (wide and thin)\n",
    "    conv1 = Conv2D(32, (3, 3), activation='relu', padding='same')(input_img) #28 x 28 x 32\n",
    "    pool1 = MaxPooling2D(pool_size=(2, 2))(conv1) #14 x 14 x 32\n",
    "    conv2 = Conv2D(64, (3, 3), activation='relu', padding='same')(pool1) #14 x 14 x 64\n",
    "    pool2 = MaxPooling2D(pool_size=(2, 2))(conv2) #7 x 7 x 64\n",
    "    conv3 = Conv2D(128, (3, 3), activation='relu', padding='same')(pool2) #7 x 7 x 128 (small and thick)\n",
    "\n",
    "    #decoder\n",
    "    conv4 = Conv2D(128, (3, 3), activation='relu', padding='same')(conv3) #7 x 7 x 128\n",
    "    up1 = UpSampling2D((2,2))(conv4) # 14 x 14 x 128\n",
    "    conv5 = Conv2D(64, (3, 3), activation='relu', padding='same')(up1) # 14 x 14 x 64\n",
    "    up2 = UpSampling2D((2,2))(conv5) # 28 x 28 x 64\n",
    "    decoded = Conv2D(1, (3, 3), activation='sigmoid', padding='same')(up2) # 28 x 28 x 1\n",
    "    return decoded"
   ]
  },
  {
   "cell_type": "code",
   "execution_count": 18,
   "metadata": {},
   "outputs": [
    {
     "name": "stdout",
     "output_type": "stream",
     "text": [
      "WARNING:tensorflow:From /home/v-nitin.gupta/anaconda3/lib/python3.7/site-packages/tensorflow/python/framework/op_def_library.py:263: colocate_with (from tensorflow.python.framework.ops) is deprecated and will be removed in a future version.\n",
      "Instructions for updating:\n",
      "Colocations handled automatically by placer.\n"
     ]
    }
   ],
   "source": [
    "autoencoder = Model(input_img, autoencoder(input_img))\n",
    "autoencoder.compile(loss='mean_squared_error', optimizer = RMSprop())"
   ]
  },
  {
   "cell_type": "code",
   "execution_count": 19,
   "metadata": {},
   "outputs": [
    {
     "name": "stdout",
     "output_type": "stream",
     "text": [
      "_________________________________________________________________\n",
      "Layer (type)                 Output Shape              Param #   \n",
      "=================================================================\n",
      "input_1 (InputLayer)         (None, 28, 28, 1)         0         \n",
      "_________________________________________________________________\n",
      "conv2d_1 (Conv2D)            (None, 28, 28, 32)        320       \n",
      "_________________________________________________________________\n",
      "max_pooling2d_1 (MaxPooling2 (None, 14, 14, 32)        0         \n",
      "_________________________________________________________________\n",
      "conv2d_2 (Conv2D)            (None, 14, 14, 64)        18496     \n",
      "_________________________________________________________________\n",
      "max_pooling2d_2 (MaxPooling2 (None, 7, 7, 64)          0         \n",
      "_________________________________________________________________\n",
      "conv2d_3 (Conv2D)            (None, 7, 7, 128)         73856     \n",
      "_________________________________________________________________\n",
      "conv2d_4 (Conv2D)            (None, 7, 7, 128)         147584    \n",
      "_________________________________________________________________\n",
      "up_sampling2d_1 (UpSampling2 (None, 14, 14, 128)       0         \n",
      "_________________________________________________________________\n",
      "conv2d_5 (Conv2D)            (None, 14, 14, 64)        73792     \n",
      "_________________________________________________________________\n",
      "up_sampling2d_2 (UpSampling2 (None, 28, 28, 64)        0         \n",
      "_________________________________________________________________\n",
      "conv2d_6 (Conv2D)            (None, 28, 28, 1)         577       \n",
      "=================================================================\n",
      "Total params: 314,625\n",
      "Trainable params: 314,625\n",
      "Non-trainable params: 0\n",
      "_________________________________________________________________\n"
     ]
    }
   ],
   "source": [
    "autoencoder.summary()"
   ]
  },
  {
   "cell_type": "code",
   "execution_count": 20,
   "metadata": {},
   "outputs": [
    {
     "name": "stdout",
     "output_type": "stream",
     "text": [
      "WARNING:tensorflow:From /home/v-nitin.gupta/anaconda3/lib/python3.7/site-packages/tensorflow/python/ops/math_ops.py:3066: to_int32 (from tensorflow.python.ops.math_ops) is deprecated and will be removed in a future version.\n",
      "Instructions for updating:\n",
      "Use tf.cast instead.\n",
      "Train on 48000 samples, validate on 12000 samples\n",
      "Epoch 1/50\n",
      "48000/48000 [==============================] - 269s 6ms/step - loss: 0.0545 - val_loss: 0.0536\n",
      "Epoch 2/50\n",
      "48000/48000 [==============================] - 266s 6ms/step - loss: 0.0471 - val_loss: 0.0422\n",
      "Epoch 3/50\n",
      "48000/48000 [==============================] - 268s 6ms/step - loss: 0.0445 - val_loss: 0.0371\n",
      "Epoch 4/50\n",
      "48000/48000 [==============================] - 267s 6ms/step - loss: 0.0439 - val_loss: 0.0430\n",
      "Epoch 5/50\n",
      "48000/48000 [==============================] - 278s 6ms/step - loss: 0.0467 - val_loss: 0.0397\n",
      "Epoch 6/50\n",
      "48000/48000 [==============================] - 267s 6ms/step - loss: 0.0463 - val_loss: 0.0554\n",
      "Epoch 7/50\n",
      "48000/48000 [==============================] - 265s 6ms/step - loss: 0.0480 - val_loss: 0.0648\n",
      "Epoch 8/50\n",
      "48000/48000 [==============================] - 270s 6ms/step - loss: 0.0512 - val_loss: 0.0570\n",
      "Epoch 9/50\n",
      "48000/48000 [==============================] - 272s 6ms/step - loss: 0.0533 - val_loss: 0.0548\n",
      "Epoch 10/50\n",
      "48000/48000 [==============================] - 271s 6ms/step - loss: 0.0545 - val_loss: 0.0564\n",
      "Epoch 11/50\n",
      "48000/48000 [==============================] - 278s 6ms/step - loss: 0.0587 - val_loss: 0.0633\n",
      "Epoch 12/50\n",
      "48000/48000 [==============================] - 300s 6ms/step - loss: 0.0623 - val_loss: 0.0546\n",
      "Epoch 13/50\n",
      "48000/48000 [==============================] - 270s 6ms/step - loss: 0.0584 - val_loss: 0.0712\n",
      "Epoch 14/50\n",
      "48000/48000 [==============================] - 268s 6ms/step - loss: 0.0618 - val_loss: 0.0883\n",
      "Epoch 15/50\n",
      "48000/48000 [==============================] - 268s 6ms/step - loss: 0.0633 - val_loss: 0.0602\n",
      "Epoch 16/50\n",
      "48000/48000 [==============================] - 268s 6ms/step - loss: 0.0684 - val_loss: 0.0538\n",
      "Epoch 17/50\n",
      "48000/48000 [==============================] - 268s 6ms/step - loss: 0.0619 - val_loss: 0.0665\n",
      "Epoch 18/50\n",
      "48000/48000 [==============================] - 269s 6ms/step - loss: 0.0682 - val_loss: 0.0718\n",
      "Epoch 19/50\n",
      "48000/48000 [==============================] - 276s 6ms/step - loss: 0.0660 - val_loss: 0.0584\n",
      "Epoch 20/50\n",
      "48000/48000 [==============================] - 285s 6ms/step - loss: 0.0733 - val_loss: 0.0527\n",
      "Epoch 21/50\n",
      "48000/48000 [==============================] - 277s 6ms/step - loss: 0.0667 - val_loss: 0.0940\n",
      "Epoch 22/50\n",
      "48000/48000 [==============================] - 287s 6ms/step - loss: 0.0614 - val_loss: 0.0474\n",
      "Epoch 23/50\n",
      "48000/48000 [==============================] - 269s 6ms/step - loss: 0.0602 - val_loss: 0.0667\n",
      "Epoch 24/50\n",
      "48000/48000 [==============================] - 271s 6ms/step - loss: 0.0621 - val_loss: 0.1108\n",
      "Epoch 25/50\n",
      "48000/48000 [==============================] - 268s 6ms/step - loss: 0.0599 - val_loss: 0.0682\n",
      "Epoch 26/50\n",
      "48000/48000 [==============================] - 278s 6ms/step - loss: 0.0653 - val_loss: 0.0620\n",
      "Epoch 27/50\n",
      "48000/48000 [==============================] - 281s 6ms/step - loss: 0.0684 - val_loss: 0.0692\n",
      "Epoch 28/50\n",
      "48000/48000 [==============================] - 275s 6ms/step - loss: 0.0813 - val_loss: 0.0651\n",
      "Epoch 29/50\n",
      "48000/48000 [==============================] - 274s 6ms/step - loss: 0.0672 - val_loss: 0.0730\n",
      "Epoch 30/50\n",
      "48000/48000 [==============================] - 273s 6ms/step - loss: 0.0654 - val_loss: 0.0681\n",
      "Epoch 31/50\n",
      "48000/48000 [==============================] - 278s 6ms/step - loss: 0.0672 - val_loss: 0.0513\n",
      "Epoch 32/50\n",
      "48000/48000 [==============================] - 277s 6ms/step - loss: 0.0732 - val_loss: 0.0727\n",
      "Epoch 33/50\n",
      "48000/48000 [==============================] - 281s 6ms/step - loss: 0.0710 - val_loss: 0.0666\n",
      "Epoch 34/50\n",
      "48000/48000 [==============================] - 282s 6ms/step - loss: 0.0774 - val_loss: 0.0651\n",
      "Epoch 35/50\n",
      "48000/48000 [==============================] - 276s 6ms/step - loss: 0.0767 - val_loss: 0.0552\n",
      "Epoch 36/50\n",
      "48000/48000 [==============================] - 273s 6ms/step - loss: 0.0789 - val_loss: 0.1074\n",
      "Epoch 37/50\n",
      "48000/48000 [==============================] - 267s 6ms/step - loss: 0.0724 - val_loss: 0.0630\n",
      "Epoch 38/50\n",
      "48000/48000 [==============================] - 291s 6ms/step - loss: 0.0702 - val_loss: 0.0782\n",
      "Epoch 39/50\n",
      "48000/48000 [==============================] - 273s 6ms/step - loss: 0.0692 - val_loss: 0.0669\n",
      "Epoch 40/50\n",
      "48000/48000 [==============================] - 270s 6ms/step - loss: 0.0744 - val_loss: 0.0758\n",
      "Epoch 41/50\n",
      "48000/48000 [==============================] - 270s 6ms/step - loss: 0.0761 - val_loss: 0.0580\n",
      "Epoch 42/50\n",
      "48000/48000 [==============================] - 273s 6ms/step - loss: 0.0731 - val_loss: 0.0647\n",
      "Epoch 43/50\n",
      "48000/48000 [==============================] - 275s 6ms/step - loss: 0.0797 - val_loss: 0.0576\n",
      "Epoch 44/50\n",
      "48000/48000 [==============================] - 269s 6ms/step - loss: 0.0727 - val_loss: 0.0893\n",
      "Epoch 45/50\n",
      "48000/48000 [==============================] - 269s 6ms/step - loss: 0.0830 - val_loss: 0.0668\n",
      "Epoch 46/50\n",
      "48000/48000 [==============================] - 269s 6ms/step - loss: 0.0680 - val_loss: 0.0814\n",
      "Epoch 47/50\n",
      "48000/48000 [==============================] - 269s 6ms/step - loss: 0.0685 - val_loss: 0.0649\n",
      "Epoch 48/50\n",
      "48000/48000 [==============================] - 269s 6ms/step - loss: 0.0816 - val_loss: 0.1274\n",
      "Epoch 49/50\n",
      "48000/48000 [==============================] - 269s 6ms/step - loss: 0.0662 - val_loss: 0.0549\n",
      "Epoch 50/50\n",
      "48000/48000 [==============================] - 269s 6ms/step - loss: 0.0813 - val_loss: 0.0538\n"
     ]
    }
   ],
   "source": [
    "autoencoder_train = autoencoder.fit(train_X, train_ground, batch_size=batch_size,epochs=epochs,verbose=1,validation_data=(valid_X, valid_ground))"
   ]
  },
  {
   "cell_type": "code",
   "execution_count": 21,
   "metadata": {},
   "outputs": [
    {
     "data": {
      "image/png": "[encoded data removed]",
      "text/plain": [
       "<Figure size 432x288 with 1 Axes>"
      ]
     },
     "metadata": {
      "needs_background": "light"
     },
     "output_type": "display_data"
    }
   ],
   "source": [
    "loss = autoencoder_train.history['loss']\n",
    "val_loss = autoencoder_train.history['val_loss']\n",
    "epochs = range(epochs)\n",
    "plt.figure()\n",
    "plt.plot(epochs, loss, 'bo', label='Training loss')\n",
    "plt.plot(epochs, val_loss, 'b', label='Validation loss')\n",
    "plt.title('Training and validation loss')\n",
    "plt.legend()\n",
    "plt.show()"
   ]
  },
  {
   "cell_type": "code",
   "execution_count": null,
   "metadata": {},
   "outputs": [],
   "source": []
  }
 ],
 "metadata": {
  "kernelspec": {
   "display_name": "Python 3",
   "language": "python",
   "name": "python3"
  },
  "language_info": {
   "codemirror_mode": {
    "name": "ipython",
    "version": 3
   },
   "file_extension": ".py",
   "mimetype": "text/x-python",
   "name": "python",
   "nbconvert_exporter": "python",
   "pygments_lexer": "ipython3",
   "version": "3.7.1"
  }
 },
 "nbformat": 4,
 "nbformat_minor": 2
}
